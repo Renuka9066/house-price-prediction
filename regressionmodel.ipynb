{
 "cells": [
  {
   "cell_type": "code",
   "execution_count": 1,
   "metadata": {
    "executionInfo": {
     "elapsed": 2381,
     "status": "ok",
     "timestamp": 1742624406336,
     "user": {
      "displayName": "Renuka N",
      "userId": "18426000206601470675"
     },
     "user_tz": -330
    },
    "id": "DzZhtNLolYqx"
   },
   "outputs": [],
   "source": [
    "import numpy as np\n",
    "import pandas as pd\n",
    "import matplotlib.pyplot as plt\n",
    "from sklearn.model_selection import train_test_split\n",
    "from sklearn.linear_model import LinearRegression\n",
    "from sklearn.metrics import mean_squared_error"
   ]
  },
  {
   "cell_type": "code",
   "execution_count": 2,
   "metadata": {
    "executionInfo": {
     "elapsed": 31,
     "status": "ok",
     "timestamp": 1742624406340,
     "user": {
      "displayName": "Renuka N",
      "userId": "18426000206601470675"
     },
     "user_tz": -330
    },
    "id": "MDwL9-rFtzWX"
   },
   "outputs": [],
   "source": [
    "hpp=pd.read_csv('House Price Prediction Dataset.csv')"
   ]
  },
  {
   "cell_type": "code",
   "execution_count": 3,
   "metadata": {
    "colab": {
     "base_uri": "https://localhost:8080/",
     "height": 0
    },
    "executionInfo": {
     "elapsed": 45,
     "status": "ok",
     "timestamp": 1742624406380,
     "user": {
      "displayName": "Renuka N",
      "userId": "18426000206601470675"
     },
     "user_tz": -330
    },
    "id": "VkUXUcRAtzSe",
    "outputId": "637556ad-e4aa-4ab9-b992-f4348633f37a"
   },
   "outputs": [
    {
     "name": "stdout",
     "output_type": "stream",
     "text": [
      "<class 'pandas.core.frame.DataFrame'>\n",
      "RangeIndex: 2000 entries, 0 to 1999\n",
      "Data columns (total 10 columns):\n",
      " #   Column     Non-Null Count  Dtype \n",
      "---  ------     --------------  ----- \n",
      " 0   Id         2000 non-null   int64 \n",
      " 1   Area       2000 non-null   int64 \n",
      " 2   Bedrooms   2000 non-null   int64 \n",
      " 3   Bathrooms  2000 non-null   int64 \n",
      " 4   Floors     2000 non-null   int64 \n",
      " 5   YearBuilt  2000 non-null   int64 \n",
      " 6   Location   2000 non-null   object\n",
      " 7   Condition  2000 non-null   object\n",
      " 8   Garage     2000 non-null   object\n",
      " 9   Price      2000 non-null   int64 \n",
      "dtypes: int64(7), object(3)\n",
      "memory usage: 156.4+ KB\n"
     ]
    }
   ],
   "source": [
    "hpp.info()"
   ]
  },
  {
   "cell_type": "code",
   "execution_count": 4,
   "metadata": {
    "colab": {
     "base_uri": "https://localhost:8080/",
     "height": 206
    },
    "executionInfo": {
     "elapsed": 151,
     "status": "ok",
     "timestamp": 1742624406533,
     "user": {
      "displayName": "Renuka N",
      "userId": "18426000206601470675"
     },
     "user_tz": -330
    },
    "id": "D_HSBqIouBUn",
    "outputId": "bce41033-c8ac-4952-b150-b58c2e22e9a6"
   },
   "outputs": [
    {
     "data": {
      "text/html": [
       "<div>\n",
       "<style scoped>\n",
       "    .dataframe tbody tr th:only-of-type {\n",
       "        vertical-align: middle;\n",
       "    }\n",
       "\n",
       "    .dataframe tbody tr th {\n",
       "        vertical-align: top;\n",
       "    }\n",
       "\n",
       "    .dataframe thead th {\n",
       "        text-align: right;\n",
       "    }\n",
       "</style>\n",
       "<table border=\"1\" class=\"dataframe\">\n",
       "  <thead>\n",
       "    <tr style=\"text-align: right;\">\n",
       "      <th></th>\n",
       "      <th>Id</th>\n",
       "      <th>Area</th>\n",
       "      <th>Bedrooms</th>\n",
       "      <th>Bathrooms</th>\n",
       "      <th>Floors</th>\n",
       "      <th>YearBuilt</th>\n",
       "      <th>Location</th>\n",
       "      <th>Condition</th>\n",
       "      <th>Garage</th>\n",
       "      <th>Price</th>\n",
       "    </tr>\n",
       "  </thead>\n",
       "  <tbody>\n",
       "    <tr>\n",
       "      <th>0</th>\n",
       "      <td>1</td>\n",
       "      <td>1360</td>\n",
       "      <td>5</td>\n",
       "      <td>4</td>\n",
       "      <td>3</td>\n",
       "      <td>1970</td>\n",
       "      <td>Downtown</td>\n",
       "      <td>Excellent</td>\n",
       "      <td>No</td>\n",
       "      <td>149919</td>\n",
       "    </tr>\n",
       "    <tr>\n",
       "      <th>1</th>\n",
       "      <td>2</td>\n",
       "      <td>4272</td>\n",
       "      <td>5</td>\n",
       "      <td>4</td>\n",
       "      <td>3</td>\n",
       "      <td>1958</td>\n",
       "      <td>Downtown</td>\n",
       "      <td>Excellent</td>\n",
       "      <td>No</td>\n",
       "      <td>424998</td>\n",
       "    </tr>\n",
       "    <tr>\n",
       "      <th>2</th>\n",
       "      <td>3</td>\n",
       "      <td>3592</td>\n",
       "      <td>2</td>\n",
       "      <td>2</td>\n",
       "      <td>3</td>\n",
       "      <td>1938</td>\n",
       "      <td>Downtown</td>\n",
       "      <td>Good</td>\n",
       "      <td>No</td>\n",
       "      <td>266746</td>\n",
       "    </tr>\n",
       "    <tr>\n",
       "      <th>3</th>\n",
       "      <td>4</td>\n",
       "      <td>966</td>\n",
       "      <td>4</td>\n",
       "      <td>2</td>\n",
       "      <td>2</td>\n",
       "      <td>1902</td>\n",
       "      <td>Suburban</td>\n",
       "      <td>Fair</td>\n",
       "      <td>Yes</td>\n",
       "      <td>244020</td>\n",
       "    </tr>\n",
       "    <tr>\n",
       "      <th>4</th>\n",
       "      <td>5</td>\n",
       "      <td>4926</td>\n",
       "      <td>1</td>\n",
       "      <td>4</td>\n",
       "      <td>2</td>\n",
       "      <td>1975</td>\n",
       "      <td>Downtown</td>\n",
       "      <td>Fair</td>\n",
       "      <td>Yes</td>\n",
       "      <td>636056</td>\n",
       "    </tr>\n",
       "  </tbody>\n",
       "</table>\n",
       "</div>"
      ],
      "text/plain": [
       "   Id  Area  Bedrooms  Bathrooms  Floors  YearBuilt  Location  Condition  \\\n",
       "0   1  1360         5          4       3       1970  Downtown  Excellent   \n",
       "1   2  4272         5          4       3       1958  Downtown  Excellent   \n",
       "2   3  3592         2          2       3       1938  Downtown       Good   \n",
       "3   4   966         4          2       2       1902  Suburban       Fair   \n",
       "4   5  4926         1          4       2       1975  Downtown       Fair   \n",
       "\n",
       "  Garage   Price  \n",
       "0     No  149919  \n",
       "1     No  424998  \n",
       "2     No  266746  \n",
       "3    Yes  244020  \n",
       "4    Yes  636056  "
      ]
     },
     "execution_count": 4,
     "metadata": {},
     "output_type": "execute_result"
    }
   ],
   "source": [
    "hpp.head()"
   ]
  },
  {
   "cell_type": "code",
   "execution_count": 5,
   "metadata": {
    "colab": {
     "base_uri": "https://localhost:8080/",
     "height": 241
    },
    "executionInfo": {
     "elapsed": 97,
     "status": "ok",
     "timestamp": 1742624406633,
     "user": {
      "displayName": "Renuka N",
      "userId": "18426000206601470675"
     },
     "user_tz": -330
    },
    "id": "yakDraGNSO9Z",
    "outputId": "78732333-1bd2-4c63-ae96-c11700ea17e9"
   },
   "outputs": [
    {
     "data": {
      "text/plain": [
       "Location\n",
       "Downtown    558\n",
       "Urban       485\n",
       "Suburban    483\n",
       "Rural       474\n",
       "Name: count, dtype: int64"
      ]
     },
     "execution_count": 5,
     "metadata": {},
     "output_type": "execute_result"
    }
   ],
   "source": [
    "hpp.Location.value_counts()"
   ]
  },
  {
   "cell_type": "code",
   "execution_count": 6,
   "metadata": {
    "colab": {
     "base_uri": "https://localhost:8080/",
     "height": 241
    },
    "executionInfo": {
     "elapsed": 15,
     "status": "ok",
     "timestamp": 1742624406638,
     "user": {
      "displayName": "Renuka N",
      "userId": "18426000206601470675"
     },
     "user_tz": -330
    },
    "id": "XITz39T2Sf4-",
    "outputId": "f26863a5-461f-45d2-a9b8-44e96b78a1bb"
   },
   "outputs": [
    {
     "data": {
      "text/plain": [
       "Condition\n",
       "Fair         521\n",
       "Excellent    511\n",
       "Poor         507\n",
       "Good         461\n",
       "Name: count, dtype: int64"
      ]
     },
     "execution_count": 6,
     "metadata": {},
     "output_type": "execute_result"
    }
   ],
   "source": [
    "hpp.Condition.value_counts()"
   ]
  },
  {
   "cell_type": "code",
   "execution_count": 7,
   "metadata": {
    "colab": {
     "base_uri": "https://localhost:8080/",
     "height": 178
    },
    "executionInfo": {
     "elapsed": 308,
     "status": "ok",
     "timestamp": 1742624406984,
     "user": {
      "displayName": "Renuka N",
      "userId": "18426000206601470675"
     },
     "user_tz": -330
    },
    "id": "ohE1VPXXSk8x",
    "outputId": "aee7d8dc-9f20-4304-8266-7d505b989375"
   },
   "outputs": [
    {
     "data": {
      "text/plain": [
       "Garage\n",
       "No     1038\n",
       "Yes     962\n",
       "Name: count, dtype: int64"
      ]
     },
     "execution_count": 7,
     "metadata": {},
     "output_type": "execute_result"
    }
   ],
   "source": [
    "hpp.Garage.value_counts()"
   ]
  },
  {
   "cell_type": "code",
   "execution_count": 8,
   "metadata": {
    "executionInfo": {
     "elapsed": 97,
     "status": "ok",
     "timestamp": 1742624407083,
     "user": {
      "displayName": "Renuka N",
      "userId": "18426000206601470675"
     },
     "user_tz": -330
    },
    "id": "8s-_Z-bATLDC"
   },
   "outputs": [],
   "source": [
    "def Locationfunc(string):\n",
    "  if (string=='Downtown'):\n",
    "    return 0\n",
    "  elif (string=='Urban'):\n",
    "    return 1\n",
    "  elif (string=='Suburban'):\n",
    "    return 2\n",
    "  elif (string=='Rural'):\n",
    "    return 3\n"
   ]
  },
  {
   "cell_type": "code",
   "execution_count": 9,
   "metadata": {
    "colab": {
     "base_uri": "https://localhost:8080/",
     "height": 0
    },
    "executionInfo": {
     "elapsed": 16,
     "status": "ok",
     "timestamp": 1742624407102,
     "user": {
      "displayName": "Renuka N",
      "userId": "18426000206601470675"
     },
     "user_tz": -330
    },
    "id": "Thd2Fsg4Ucf5",
    "outputId": "5d49ecab-49dd-43bc-b9f3-017e905a2c6b"
   },
   "outputs": [
    {
     "data": {
      "text/plain": [
       "0"
      ]
     },
     "execution_count": 9,
     "metadata": {},
     "output_type": "execute_result"
    }
   ],
   "source": [
    "Locationfunc('Downtown')"
   ]
  },
  {
   "cell_type": "code",
   "execution_count": 10,
   "metadata": {
    "executionInfo": {
     "elapsed": 3,
     "status": "ok",
     "timestamp": 1742624407107,
     "user": {
      "displayName": "Renuka N",
      "userId": "18426000206601470675"
     },
     "user_tz": -330
    },
    "id": "bPAOjPuPVpde"
   },
   "outputs": [],
   "source": [
    "hpp['Location_New']=hpp['Location'].apply(Locationfunc)"
   ]
  },
  {
   "cell_type": "code",
   "execution_count": 11,
   "metadata": {
    "executionInfo": {
     "elapsed": 48,
     "status": "ok",
     "timestamp": 1742624407156,
     "user": {
      "displayName": "Renuka N",
      "userId": "18426000206601470675"
     },
     "user_tz": -330
    },
    "id": "DOQN1sPaWjXc"
   },
   "outputs": [],
   "source": [
    "def Conditionfunc(string):\n",
    "  if(string=='Fair'):\n",
    "    return 0\n",
    "  elif(string=='Excellent'):\n",
    "    return 1\n",
    "  elif(string=='Poor'):\n",
    "    return 2\n",
    "  elif(string=='Good'):\n",
    "    return 3\n"
   ]
  },
  {
   "cell_type": "code",
   "execution_count": 12,
   "metadata": {
    "executionInfo": {
     "elapsed": 3,
     "status": "ok",
     "timestamp": 1742624407162,
     "user": {
      "displayName": "Renuka N",
      "userId": "18426000206601470675"
     },
     "user_tz": -330
    },
    "id": "wsx3mFzhXO-N"
   },
   "outputs": [],
   "source": [
    "def Garagefunc(string):\n",
    "  if(string=='No'):\n",
    "    return 0\n",
    "  elif(string=='Yes'):\n",
    "    return 1\n"
   ]
  },
  {
   "cell_type": "code",
   "execution_count": 13,
   "metadata": {
    "executionInfo": {
     "elapsed": 4,
     "status": "ok",
     "timestamp": 1742624407169,
     "user": {
      "displayName": "Renuka N",
      "userId": "18426000206601470675"
     },
     "user_tz": -330
    },
    "id": "bYzZ8WyMXms0"
   },
   "outputs": [],
   "source": [
    "hpp['Condition_New']=hpp['Condition'].apply(Conditionfunc)"
   ]
  },
  {
   "cell_type": "code",
   "execution_count": 14,
   "metadata": {
    "executionInfo": {
     "elapsed": 7,
     "status": "ok",
     "timestamp": 1742624407178,
     "user": {
      "displayName": "Renuka N",
      "userId": "18426000206601470675"
     },
     "user_tz": -330
    },
    "id": "eA8TyJYZYBrS"
   },
   "outputs": [],
   "source": [
    "hpp['Garage_New']=hpp['Garage'].apply(Garagefunc)"
   ]
  },
  {
   "cell_type": "code",
   "execution_count": 15,
   "metadata": {
    "executionInfo": {
     "elapsed": 5,
     "status": "ok",
     "timestamp": 1742624407185,
     "user": {
      "displayName": "Renuka N",
      "userId": "18426000206601470675"
     },
     "user_tz": -330
    },
    "id": "vmtqXG6mYQgj"
   },
   "outputs": [],
   "source": [
    "hpp=hpp.drop(['Location','Condition','Garage'],axis=1)"
   ]
  },
  {
   "cell_type": "code",
   "execution_count": 16,
   "metadata": {
    "colab": {
     "base_uri": "https://localhost:8080/",
     "height": 206
    },
    "executionInfo": {
     "elapsed": 48,
     "status": "ok",
     "timestamp": 1742624407236,
     "user": {
      "displayName": "Renuka N",
      "userId": "18426000206601470675"
     },
     "user_tz": -330
    },
    "id": "T6K0B3e5Ynw_",
    "outputId": "ddb4bc50-c58a-4631-bddb-3042f47664fe"
   },
   "outputs": [
    {
     "data": {
      "text/html": [
       "<div>\n",
       "<style scoped>\n",
       "    .dataframe tbody tr th:only-of-type {\n",
       "        vertical-align: middle;\n",
       "    }\n",
       "\n",
       "    .dataframe tbody tr th {\n",
       "        vertical-align: top;\n",
       "    }\n",
       "\n",
       "    .dataframe thead th {\n",
       "        text-align: right;\n",
       "    }\n",
       "</style>\n",
       "<table border=\"1\" class=\"dataframe\">\n",
       "  <thead>\n",
       "    <tr style=\"text-align: right;\">\n",
       "      <th></th>\n",
       "      <th>Id</th>\n",
       "      <th>Area</th>\n",
       "      <th>Bedrooms</th>\n",
       "      <th>Bathrooms</th>\n",
       "      <th>Floors</th>\n",
       "      <th>YearBuilt</th>\n",
       "      <th>Price</th>\n",
       "      <th>Location_New</th>\n",
       "      <th>Condition_New</th>\n",
       "      <th>Garage_New</th>\n",
       "    </tr>\n",
       "  </thead>\n",
       "  <tbody>\n",
       "    <tr>\n",
       "      <th>0</th>\n",
       "      <td>1</td>\n",
       "      <td>1360</td>\n",
       "      <td>5</td>\n",
       "      <td>4</td>\n",
       "      <td>3</td>\n",
       "      <td>1970</td>\n",
       "      <td>149919</td>\n",
       "      <td>0</td>\n",
       "      <td>1</td>\n",
       "      <td>0</td>\n",
       "    </tr>\n",
       "    <tr>\n",
       "      <th>1</th>\n",
       "      <td>2</td>\n",
       "      <td>4272</td>\n",
       "      <td>5</td>\n",
       "      <td>4</td>\n",
       "      <td>3</td>\n",
       "      <td>1958</td>\n",
       "      <td>424998</td>\n",
       "      <td>0</td>\n",
       "      <td>1</td>\n",
       "      <td>0</td>\n",
       "    </tr>\n",
       "    <tr>\n",
       "      <th>2</th>\n",
       "      <td>3</td>\n",
       "      <td>3592</td>\n",
       "      <td>2</td>\n",
       "      <td>2</td>\n",
       "      <td>3</td>\n",
       "      <td>1938</td>\n",
       "      <td>266746</td>\n",
       "      <td>0</td>\n",
       "      <td>3</td>\n",
       "      <td>0</td>\n",
       "    </tr>\n",
       "    <tr>\n",
       "      <th>3</th>\n",
       "      <td>4</td>\n",
       "      <td>966</td>\n",
       "      <td>4</td>\n",
       "      <td>2</td>\n",
       "      <td>2</td>\n",
       "      <td>1902</td>\n",
       "      <td>244020</td>\n",
       "      <td>2</td>\n",
       "      <td>0</td>\n",
       "      <td>1</td>\n",
       "    </tr>\n",
       "    <tr>\n",
       "      <th>4</th>\n",
       "      <td>5</td>\n",
       "      <td>4926</td>\n",
       "      <td>1</td>\n",
       "      <td>4</td>\n",
       "      <td>2</td>\n",
       "      <td>1975</td>\n",
       "      <td>636056</td>\n",
       "      <td>0</td>\n",
       "      <td>0</td>\n",
       "      <td>1</td>\n",
       "    </tr>\n",
       "  </tbody>\n",
       "</table>\n",
       "</div>"
      ],
      "text/plain": [
       "   Id  Area  Bedrooms  Bathrooms  Floors  YearBuilt   Price  Location_New  \\\n",
       "0   1  1360         5          4       3       1970  149919             0   \n",
       "1   2  4272         5          4       3       1958  424998             0   \n",
       "2   3  3592         2          2       3       1938  266746             0   \n",
       "3   4   966         4          2       2       1902  244020             2   \n",
       "4   5  4926         1          4       2       1975  636056             0   \n",
       "\n",
       "   Condition_New  Garage_New  \n",
       "0              1           0  \n",
       "1              1           0  \n",
       "2              3           0  \n",
       "3              0           1  \n",
       "4              0           1  "
      ]
     },
     "execution_count": 16,
     "metadata": {},
     "output_type": "execute_result"
    }
   ],
   "source": [
    "hpp.head()"
   ]
  },
  {
   "cell_type": "code",
   "execution_count": 17,
   "metadata": {
    "colab": {
     "base_uri": "https://localhost:8080/",
     "height": 397
    },
    "executionInfo": {
     "elapsed": 117,
     "status": "ok",
     "timestamp": 1742624407356,
     "user": {
      "displayName": "Renuka N",
      "userId": "18426000206601470675"
     },
     "user_tz": -330
    },
    "id": "TMFDJcAnYrdW",
    "outputId": "a2852217-ca85-4ae4-b96c-a33ccd51e39c"
   },
   "outputs": [
    {
     "data": {
      "text/plain": [
       "Id               0\n",
       "Area             0\n",
       "Bedrooms         0\n",
       "Bathrooms        0\n",
       "Floors           0\n",
       "YearBuilt        0\n",
       "Price            0\n",
       "Location_New     0\n",
       "Condition_New    0\n",
       "Garage_New       0\n",
       "dtype: int64"
      ]
     },
     "execution_count": 17,
     "metadata": {},
     "output_type": "execute_result"
    }
   ],
   "source": [
    "hpp.isnull().sum()"
   ]
  },
  {
   "cell_type": "code",
   "execution_count": 18,
   "metadata": {
    "executionInfo": {
     "elapsed": 6,
     "status": "ok",
     "timestamp": 1742624407358,
     "user": {
      "displayName": "Renuka N",
      "userId": "18426000206601470675"
     },
     "user_tz": -330
    },
    "id": "LgMZLFSVgE_g"
   },
   "outputs": [],
   "source": [
    "hpp=hpp.drop(['Id','YearBuilt'],axis=1)"
   ]
  },
  {
   "cell_type": "code",
   "execution_count": 19,
   "metadata": {
    "executionInfo": {
     "elapsed": 9,
     "status": "ok",
     "timestamp": 1742624407363,
     "user": {
      "displayName": "Renuka N",
      "userId": "18426000206601470675"
     },
     "user_tz": -330
    },
    "id": "NhEm1BP7Y0mx"
   },
   "outputs": [],
   "source": [
    "x=hpp.drop('Price',axis=1)\n",
    "y=hpp['Price']"
   ]
  },
  {
   "cell_type": "code",
   "execution_count": 20,
   "metadata": {
    "executionInfo": {
     "elapsed": 2,
     "status": "ok",
     "timestamp": 1742624407368,
     "user": {
      "displayName": "Renuka N",
      "userId": "18426000206601470675"
     },
     "user_tz": -330
    },
    "id": "CH4-CeQ1af4r"
   },
   "outputs": [],
   "source": [
    "xtrain,xtest,ytrain,ytest=train_test_split(x,y,test_size=0.3,random_state=50)"
   ]
  },
  {
   "cell_type": "code",
   "execution_count": 21,
   "metadata": {
    "colab": {
     "base_uri": "https://localhost:8080/",
     "height": 423
    },
    "executionInfo": {
     "elapsed": 102,
     "status": "ok",
     "timestamp": 1742624407472,
     "user": {
      "displayName": "Renuka N",
      "userId": "18426000206601470675"
     },
     "user_tz": -330
    },
    "id": "Az_oSVegb8tZ",
    "outputId": "d5c0596b-558b-41a8-890f-e7a32c6fbe7a"
   },
   "outputs": [
    {
     "data": {
      "text/html": [
       "<div>\n",
       "<style scoped>\n",
       "    .dataframe tbody tr th:only-of-type {\n",
       "        vertical-align: middle;\n",
       "    }\n",
       "\n",
       "    .dataframe tbody tr th {\n",
       "        vertical-align: top;\n",
       "    }\n",
       "\n",
       "    .dataframe thead th {\n",
       "        text-align: right;\n",
       "    }\n",
       "</style>\n",
       "<table border=\"1\" class=\"dataframe\">\n",
       "  <thead>\n",
       "    <tr style=\"text-align: right;\">\n",
       "      <th></th>\n",
       "      <th>Area</th>\n",
       "      <th>Bedrooms</th>\n",
       "      <th>Bathrooms</th>\n",
       "      <th>Floors</th>\n",
       "      <th>Location_New</th>\n",
       "      <th>Condition_New</th>\n",
       "      <th>Garage_New</th>\n",
       "    </tr>\n",
       "  </thead>\n",
       "  <tbody>\n",
       "    <tr>\n",
       "      <th>1153</th>\n",
       "      <td>2532</td>\n",
       "      <td>1</td>\n",
       "      <td>2</td>\n",
       "      <td>3</td>\n",
       "      <td>3</td>\n",
       "      <td>1</td>\n",
       "      <td>1</td>\n",
       "    </tr>\n",
       "    <tr>\n",
       "      <th>1923</th>\n",
       "      <td>1267</td>\n",
       "      <td>2</td>\n",
       "      <td>2</td>\n",
       "      <td>2</td>\n",
       "      <td>2</td>\n",
       "      <td>2</td>\n",
       "      <td>0</td>\n",
       "    </tr>\n",
       "    <tr>\n",
       "      <th>696</th>\n",
       "      <td>2972</td>\n",
       "      <td>1</td>\n",
       "      <td>2</td>\n",
       "      <td>1</td>\n",
       "      <td>2</td>\n",
       "      <td>1</td>\n",
       "      <td>1</td>\n",
       "    </tr>\n",
       "    <tr>\n",
       "      <th>1262</th>\n",
       "      <td>2204</td>\n",
       "      <td>3</td>\n",
       "      <td>1</td>\n",
       "      <td>1</td>\n",
       "      <td>0</td>\n",
       "      <td>1</td>\n",
       "      <td>0</td>\n",
       "    </tr>\n",
       "    <tr>\n",
       "      <th>1571</th>\n",
       "      <td>4453</td>\n",
       "      <td>3</td>\n",
       "      <td>1</td>\n",
       "      <td>3</td>\n",
       "      <td>0</td>\n",
       "      <td>3</td>\n",
       "      <td>0</td>\n",
       "    </tr>\n",
       "    <tr>\n",
       "      <th>...</th>\n",
       "      <td>...</td>\n",
       "      <td>...</td>\n",
       "      <td>...</td>\n",
       "      <td>...</td>\n",
       "      <td>...</td>\n",
       "      <td>...</td>\n",
       "      <td>...</td>\n",
       "    </tr>\n",
       "    <tr>\n",
       "      <th>1313</th>\n",
       "      <td>4247</td>\n",
       "      <td>4</td>\n",
       "      <td>4</td>\n",
       "      <td>1</td>\n",
       "      <td>2</td>\n",
       "      <td>0</td>\n",
       "      <td>1</td>\n",
       "    </tr>\n",
       "    <tr>\n",
       "      <th>109</th>\n",
       "      <td>1559</td>\n",
       "      <td>1</td>\n",
       "      <td>3</td>\n",
       "      <td>2</td>\n",
       "      <td>0</td>\n",
       "      <td>0</td>\n",
       "      <td>1</td>\n",
       "    </tr>\n",
       "    <tr>\n",
       "      <th>1931</th>\n",
       "      <td>4981</td>\n",
       "      <td>3</td>\n",
       "      <td>4</td>\n",
       "      <td>3</td>\n",
       "      <td>0</td>\n",
       "      <td>3</td>\n",
       "      <td>1</td>\n",
       "    </tr>\n",
       "    <tr>\n",
       "      <th>1504</th>\n",
       "      <td>4781</td>\n",
       "      <td>4</td>\n",
       "      <td>1</td>\n",
       "      <td>1</td>\n",
       "      <td>3</td>\n",
       "      <td>1</td>\n",
       "      <td>0</td>\n",
       "    </tr>\n",
       "    <tr>\n",
       "      <th>1712</th>\n",
       "      <td>3679</td>\n",
       "      <td>4</td>\n",
       "      <td>2</td>\n",
       "      <td>1</td>\n",
       "      <td>0</td>\n",
       "      <td>3</td>\n",
       "      <td>0</td>\n",
       "    </tr>\n",
       "  </tbody>\n",
       "</table>\n",
       "<p>1400 rows × 7 columns</p>\n",
       "</div>"
      ],
      "text/plain": [
       "      Area  Bedrooms  Bathrooms  Floors  Location_New  Condition_New  \\\n",
       "1153  2532         1          2       3             3              1   \n",
       "1923  1267         2          2       2             2              2   \n",
       "696   2972         1          2       1             2              1   \n",
       "1262  2204         3          1       1             0              1   \n",
       "1571  4453         3          1       3             0              3   \n",
       "...    ...       ...        ...     ...           ...            ...   \n",
       "1313  4247         4          4       1             2              0   \n",
       "109   1559         1          3       2             0              0   \n",
       "1931  4981         3          4       3             0              3   \n",
       "1504  4781         4          1       1             3              1   \n",
       "1712  3679         4          2       1             0              3   \n",
       "\n",
       "      Garage_New  \n",
       "1153           1  \n",
       "1923           0  \n",
       "696            1  \n",
       "1262           0  \n",
       "1571           0  \n",
       "...          ...  \n",
       "1313           1  \n",
       "109            1  \n",
       "1931           1  \n",
       "1504           0  \n",
       "1712           0  \n",
       "\n",
       "[1400 rows x 7 columns]"
      ]
     },
     "execution_count": 21,
     "metadata": {},
     "output_type": "execute_result"
    }
   ],
   "source": [
    "xtrain"
   ]
  },
  {
   "cell_type": "code",
   "execution_count": 22,
   "metadata": {
    "colab": {
     "base_uri": "https://localhost:8080/",
     "height": 80
    },
    "executionInfo": {
     "elapsed": 19,
     "status": "ok",
     "timestamp": 1742624407487,
     "user": {
      "displayName": "Renuka N",
      "userId": "18426000206601470675"
     },
     "user_tz": -330
    },
    "id": "4tN1AR7xcJe0",
    "outputId": "903a9361-9ee8-4b7a-fee8-b5e65208be19"
   },
   "outputs": [
    {
     "data": {
      "text/html": [
       "<style>#sk-container-id-1 {\n",
       "  /* Definition of color scheme common for light and dark mode */\n",
       "  --sklearn-color-text: #000;\n",
       "  --sklearn-color-text-muted: #666;\n",
       "  --sklearn-color-line: gray;\n",
       "  /* Definition of color scheme for unfitted estimators */\n",
       "  --sklearn-color-unfitted-level-0: #fff5e6;\n",
       "  --sklearn-color-unfitted-level-1: #f6e4d2;\n",
       "  --sklearn-color-unfitted-level-2: #ffe0b3;\n",
       "  --sklearn-color-unfitted-level-3: chocolate;\n",
       "  /* Definition of color scheme for fitted estimators */\n",
       "  --sklearn-color-fitted-level-0: #f0f8ff;\n",
       "  --sklearn-color-fitted-level-1: #d4ebff;\n",
       "  --sklearn-color-fitted-level-2: #b3dbfd;\n",
       "  --sklearn-color-fitted-level-3: cornflowerblue;\n",
       "\n",
       "  /* Specific color for light theme */\n",
       "  --sklearn-color-text-on-default-background: var(--sg-text-color, var(--theme-code-foreground, var(--jp-content-font-color1, black)));\n",
       "  --sklearn-color-background: var(--sg-background-color, var(--theme-background, var(--jp-layout-color0, white)));\n",
       "  --sklearn-color-border-box: var(--sg-text-color, var(--theme-code-foreground, var(--jp-content-font-color1, black)));\n",
       "  --sklearn-color-icon: #696969;\n",
       "\n",
       "  @media (prefers-color-scheme: dark) {\n",
       "    /* Redefinition of color scheme for dark theme */\n",
       "    --sklearn-color-text-on-default-background: var(--sg-text-color, var(--theme-code-foreground, var(--jp-content-font-color1, white)));\n",
       "    --sklearn-color-background: var(--sg-background-color, var(--theme-background, var(--jp-layout-color0, #111)));\n",
       "    --sklearn-color-border-box: var(--sg-text-color, var(--theme-code-foreground, var(--jp-content-font-color1, white)));\n",
       "    --sklearn-color-icon: #878787;\n",
       "  }\n",
       "}\n",
       "\n",
       "#sk-container-id-1 {\n",
       "  color: var(--sklearn-color-text);\n",
       "}\n",
       "\n",
       "#sk-container-id-1 pre {\n",
       "  padding: 0;\n",
       "}\n",
       "\n",
       "#sk-container-id-1 input.sk-hidden--visually {\n",
       "  border: 0;\n",
       "  clip: rect(1px 1px 1px 1px);\n",
       "  clip: rect(1px, 1px, 1px, 1px);\n",
       "  height: 1px;\n",
       "  margin: -1px;\n",
       "  overflow: hidden;\n",
       "  padding: 0;\n",
       "  position: absolute;\n",
       "  width: 1px;\n",
       "}\n",
       "\n",
       "#sk-container-id-1 div.sk-dashed-wrapped {\n",
       "  border: 1px dashed var(--sklearn-color-line);\n",
       "  margin: 0 0.4em 0.5em 0.4em;\n",
       "  box-sizing: border-box;\n",
       "  padding-bottom: 0.4em;\n",
       "  background-color: var(--sklearn-color-background);\n",
       "}\n",
       "\n",
       "#sk-container-id-1 div.sk-container {\n",
       "  /* jupyter's `normalize.less` sets `[hidden] { display: none; }`\n",
       "     but bootstrap.min.css set `[hidden] { display: none !important; }`\n",
       "     so we also need the `!important` here to be able to override the\n",
       "     default hidden behavior on the sphinx rendered scikit-learn.org.\n",
       "     See: https://github.com/scikit-learn/scikit-learn/issues/21755 */\n",
       "  display: inline-block !important;\n",
       "  position: relative;\n",
       "}\n",
       "\n",
       "#sk-container-id-1 div.sk-text-repr-fallback {\n",
       "  display: none;\n",
       "}\n",
       "\n",
       "div.sk-parallel-item,\n",
       "div.sk-serial,\n",
       "div.sk-item {\n",
       "  /* draw centered vertical line to link estimators */\n",
       "  background-image: linear-gradient(var(--sklearn-color-text-on-default-background), var(--sklearn-color-text-on-default-background));\n",
       "  background-size: 2px 100%;\n",
       "  background-repeat: no-repeat;\n",
       "  background-position: center center;\n",
       "}\n",
       "\n",
       "/* Parallel-specific style estimator block */\n",
       "\n",
       "#sk-container-id-1 div.sk-parallel-item::after {\n",
       "  content: \"\";\n",
       "  width: 100%;\n",
       "  border-bottom: 2px solid var(--sklearn-color-text-on-default-background);\n",
       "  flex-grow: 1;\n",
       "}\n",
       "\n",
       "#sk-container-id-1 div.sk-parallel {\n",
       "  display: flex;\n",
       "  align-items: stretch;\n",
       "  justify-content: center;\n",
       "  background-color: var(--sklearn-color-background);\n",
       "  position: relative;\n",
       "}\n",
       "\n",
       "#sk-container-id-1 div.sk-parallel-item {\n",
       "  display: flex;\n",
       "  flex-direction: column;\n",
       "}\n",
       "\n",
       "#sk-container-id-1 div.sk-parallel-item:first-child::after {\n",
       "  align-self: flex-end;\n",
       "  width: 50%;\n",
       "}\n",
       "\n",
       "#sk-container-id-1 div.sk-parallel-item:last-child::after {\n",
       "  align-self: flex-start;\n",
       "  width: 50%;\n",
       "}\n",
       "\n",
       "#sk-container-id-1 div.sk-parallel-item:only-child::after {\n",
       "  width: 0;\n",
       "}\n",
       "\n",
       "/* Serial-specific style estimator block */\n",
       "\n",
       "#sk-container-id-1 div.sk-serial {\n",
       "  display: flex;\n",
       "  flex-direction: column;\n",
       "  align-items: center;\n",
       "  background-color: var(--sklearn-color-background);\n",
       "  padding-right: 1em;\n",
       "  padding-left: 1em;\n",
       "}\n",
       "\n",
       "\n",
       "/* Toggleable style: style used for estimator/Pipeline/ColumnTransformer box that is\n",
       "clickable and can be expanded/collapsed.\n",
       "- Pipeline and ColumnTransformer use this feature and define the default style\n",
       "- Estimators will overwrite some part of the style using the `sk-estimator` class\n",
       "*/\n",
       "\n",
       "/* Pipeline and ColumnTransformer style (default) */\n",
       "\n",
       "#sk-container-id-1 div.sk-toggleable {\n",
       "  /* Default theme specific background. It is overwritten whether we have a\n",
       "  specific estimator or a Pipeline/ColumnTransformer */\n",
       "  background-color: var(--sklearn-color-background);\n",
       "}\n",
       "\n",
       "/* Toggleable label */\n",
       "#sk-container-id-1 label.sk-toggleable__label {\n",
       "  cursor: pointer;\n",
       "  display: flex;\n",
       "  width: 100%;\n",
       "  margin-bottom: 0;\n",
       "  padding: 0.5em;\n",
       "  box-sizing: border-box;\n",
       "  text-align: center;\n",
       "  align-items: start;\n",
       "  justify-content: space-between;\n",
       "  gap: 0.5em;\n",
       "}\n",
       "\n",
       "#sk-container-id-1 label.sk-toggleable__label .caption {\n",
       "  font-size: 0.6rem;\n",
       "  font-weight: lighter;\n",
       "  color: var(--sklearn-color-text-muted);\n",
       "}\n",
       "\n",
       "#sk-container-id-1 label.sk-toggleable__label-arrow:before {\n",
       "  /* Arrow on the left of the label */\n",
       "  content: \"▸\";\n",
       "  float: left;\n",
       "  margin-right: 0.25em;\n",
       "  color: var(--sklearn-color-icon);\n",
       "}\n",
       "\n",
       "#sk-container-id-1 label.sk-toggleable__label-arrow:hover:before {\n",
       "  color: var(--sklearn-color-text);\n",
       "}\n",
       "\n",
       "/* Toggleable content - dropdown */\n",
       "\n",
       "#sk-container-id-1 div.sk-toggleable__content {\n",
       "  max-height: 0;\n",
       "  max-width: 0;\n",
       "  overflow: hidden;\n",
       "  text-align: left;\n",
       "  /* unfitted */\n",
       "  background-color: var(--sklearn-color-unfitted-level-0);\n",
       "}\n",
       "\n",
       "#sk-container-id-1 div.sk-toggleable__content.fitted {\n",
       "  /* fitted */\n",
       "  background-color: var(--sklearn-color-fitted-level-0);\n",
       "}\n",
       "\n",
       "#sk-container-id-1 div.sk-toggleable__content pre {\n",
       "  margin: 0.2em;\n",
       "  border-radius: 0.25em;\n",
       "  color: var(--sklearn-color-text);\n",
       "  /* unfitted */\n",
       "  background-color: var(--sklearn-color-unfitted-level-0);\n",
       "}\n",
       "\n",
       "#sk-container-id-1 div.sk-toggleable__content.fitted pre {\n",
       "  /* unfitted */\n",
       "  background-color: var(--sklearn-color-fitted-level-0);\n",
       "}\n",
       "\n",
       "#sk-container-id-1 input.sk-toggleable__control:checked~div.sk-toggleable__content {\n",
       "  /* Expand drop-down */\n",
       "  max-height: 200px;\n",
       "  max-width: 100%;\n",
       "  overflow: auto;\n",
       "}\n",
       "\n",
       "#sk-container-id-1 input.sk-toggleable__control:checked~label.sk-toggleable__label-arrow:before {\n",
       "  content: \"▾\";\n",
       "}\n",
       "\n",
       "/* Pipeline/ColumnTransformer-specific style */\n",
       "\n",
       "#sk-container-id-1 div.sk-label input.sk-toggleable__control:checked~label.sk-toggleable__label {\n",
       "  color: var(--sklearn-color-text);\n",
       "  background-color: var(--sklearn-color-unfitted-level-2);\n",
       "}\n",
       "\n",
       "#sk-container-id-1 div.sk-label.fitted input.sk-toggleable__control:checked~label.sk-toggleable__label {\n",
       "  background-color: var(--sklearn-color-fitted-level-2);\n",
       "}\n",
       "\n",
       "/* Estimator-specific style */\n",
       "\n",
       "/* Colorize estimator box */\n",
       "#sk-container-id-1 div.sk-estimator input.sk-toggleable__control:checked~label.sk-toggleable__label {\n",
       "  /* unfitted */\n",
       "  background-color: var(--sklearn-color-unfitted-level-2);\n",
       "}\n",
       "\n",
       "#sk-container-id-1 div.sk-estimator.fitted input.sk-toggleable__control:checked~label.sk-toggleable__label {\n",
       "  /* fitted */\n",
       "  background-color: var(--sklearn-color-fitted-level-2);\n",
       "}\n",
       "\n",
       "#sk-container-id-1 div.sk-label label.sk-toggleable__label,\n",
       "#sk-container-id-1 div.sk-label label {\n",
       "  /* The background is the default theme color */\n",
       "  color: var(--sklearn-color-text-on-default-background);\n",
       "}\n",
       "\n",
       "/* On hover, darken the color of the background */\n",
       "#sk-container-id-1 div.sk-label:hover label.sk-toggleable__label {\n",
       "  color: var(--sklearn-color-text);\n",
       "  background-color: var(--sklearn-color-unfitted-level-2);\n",
       "}\n",
       "\n",
       "/* Label box, darken color on hover, fitted */\n",
       "#sk-container-id-1 div.sk-label.fitted:hover label.sk-toggleable__label.fitted {\n",
       "  color: var(--sklearn-color-text);\n",
       "  background-color: var(--sklearn-color-fitted-level-2);\n",
       "}\n",
       "\n",
       "/* Estimator label */\n",
       "\n",
       "#sk-container-id-1 div.sk-label label {\n",
       "  font-family: monospace;\n",
       "  font-weight: bold;\n",
       "  display: inline-block;\n",
       "  line-height: 1.2em;\n",
       "}\n",
       "\n",
       "#sk-container-id-1 div.sk-label-container {\n",
       "  text-align: center;\n",
       "}\n",
       "\n",
       "/* Estimator-specific */\n",
       "#sk-container-id-1 div.sk-estimator {\n",
       "  font-family: monospace;\n",
       "  border: 1px dotted var(--sklearn-color-border-box);\n",
       "  border-radius: 0.25em;\n",
       "  box-sizing: border-box;\n",
       "  margin-bottom: 0.5em;\n",
       "  /* unfitted */\n",
       "  background-color: var(--sklearn-color-unfitted-level-0);\n",
       "}\n",
       "\n",
       "#sk-container-id-1 div.sk-estimator.fitted {\n",
       "  /* fitted */\n",
       "  background-color: var(--sklearn-color-fitted-level-0);\n",
       "}\n",
       "\n",
       "/* on hover */\n",
       "#sk-container-id-1 div.sk-estimator:hover {\n",
       "  /* unfitted */\n",
       "  background-color: var(--sklearn-color-unfitted-level-2);\n",
       "}\n",
       "\n",
       "#sk-container-id-1 div.sk-estimator.fitted:hover {\n",
       "  /* fitted */\n",
       "  background-color: var(--sklearn-color-fitted-level-2);\n",
       "}\n",
       "\n",
       "/* Specification for estimator info (e.g. \"i\" and \"?\") */\n",
       "\n",
       "/* Common style for \"i\" and \"?\" */\n",
       "\n",
       ".sk-estimator-doc-link,\n",
       "a:link.sk-estimator-doc-link,\n",
       "a:visited.sk-estimator-doc-link {\n",
       "  float: right;\n",
       "  font-size: smaller;\n",
       "  line-height: 1em;\n",
       "  font-family: monospace;\n",
       "  background-color: var(--sklearn-color-background);\n",
       "  border-radius: 1em;\n",
       "  height: 1em;\n",
       "  width: 1em;\n",
       "  text-decoration: none !important;\n",
       "  margin-left: 0.5em;\n",
       "  text-align: center;\n",
       "  /* unfitted */\n",
       "  border: var(--sklearn-color-unfitted-level-1) 1pt solid;\n",
       "  color: var(--sklearn-color-unfitted-level-1);\n",
       "}\n",
       "\n",
       ".sk-estimator-doc-link.fitted,\n",
       "a:link.sk-estimator-doc-link.fitted,\n",
       "a:visited.sk-estimator-doc-link.fitted {\n",
       "  /* fitted */\n",
       "  border: var(--sklearn-color-fitted-level-1) 1pt solid;\n",
       "  color: var(--sklearn-color-fitted-level-1);\n",
       "}\n",
       "\n",
       "/* On hover */\n",
       "div.sk-estimator:hover .sk-estimator-doc-link:hover,\n",
       ".sk-estimator-doc-link:hover,\n",
       "div.sk-label-container:hover .sk-estimator-doc-link:hover,\n",
       ".sk-estimator-doc-link:hover {\n",
       "  /* unfitted */\n",
       "  background-color: var(--sklearn-color-unfitted-level-3);\n",
       "  color: var(--sklearn-color-background);\n",
       "  text-decoration: none;\n",
       "}\n",
       "\n",
       "div.sk-estimator.fitted:hover .sk-estimator-doc-link.fitted:hover,\n",
       ".sk-estimator-doc-link.fitted:hover,\n",
       "div.sk-label-container:hover .sk-estimator-doc-link.fitted:hover,\n",
       ".sk-estimator-doc-link.fitted:hover {\n",
       "  /* fitted */\n",
       "  background-color: var(--sklearn-color-fitted-level-3);\n",
       "  color: var(--sklearn-color-background);\n",
       "  text-decoration: none;\n",
       "}\n",
       "\n",
       "/* Span, style for the box shown on hovering the info icon */\n",
       ".sk-estimator-doc-link span {\n",
       "  display: none;\n",
       "  z-index: 9999;\n",
       "  position: relative;\n",
       "  font-weight: normal;\n",
       "  right: .2ex;\n",
       "  padding: .5ex;\n",
       "  margin: .5ex;\n",
       "  width: min-content;\n",
       "  min-width: 20ex;\n",
       "  max-width: 50ex;\n",
       "  color: var(--sklearn-color-text);\n",
       "  box-shadow: 2pt 2pt 4pt #999;\n",
       "  /* unfitted */\n",
       "  background: var(--sklearn-color-unfitted-level-0);\n",
       "  border: .5pt solid var(--sklearn-color-unfitted-level-3);\n",
       "}\n",
       "\n",
       ".sk-estimator-doc-link.fitted span {\n",
       "  /* fitted */\n",
       "  background: var(--sklearn-color-fitted-level-0);\n",
       "  border: var(--sklearn-color-fitted-level-3);\n",
       "}\n",
       "\n",
       ".sk-estimator-doc-link:hover span {\n",
       "  display: block;\n",
       "}\n",
       "\n",
       "/* \"?\"-specific style due to the `<a>` HTML tag */\n",
       "\n",
       "#sk-container-id-1 a.estimator_doc_link {\n",
       "  float: right;\n",
       "  font-size: 1rem;\n",
       "  line-height: 1em;\n",
       "  font-family: monospace;\n",
       "  background-color: var(--sklearn-color-background);\n",
       "  border-radius: 1rem;\n",
       "  height: 1rem;\n",
       "  width: 1rem;\n",
       "  text-decoration: none;\n",
       "  /* unfitted */\n",
       "  color: var(--sklearn-color-unfitted-level-1);\n",
       "  border: var(--sklearn-color-unfitted-level-1) 1pt solid;\n",
       "}\n",
       "\n",
       "#sk-container-id-1 a.estimator_doc_link.fitted {\n",
       "  /* fitted */\n",
       "  border: var(--sklearn-color-fitted-level-1) 1pt solid;\n",
       "  color: var(--sklearn-color-fitted-level-1);\n",
       "}\n",
       "\n",
       "/* On hover */\n",
       "#sk-container-id-1 a.estimator_doc_link:hover {\n",
       "  /* unfitted */\n",
       "  background-color: var(--sklearn-color-unfitted-level-3);\n",
       "  color: var(--sklearn-color-background);\n",
       "  text-decoration: none;\n",
       "}\n",
       "\n",
       "#sk-container-id-1 a.estimator_doc_link.fitted:hover {\n",
       "  /* fitted */\n",
       "  background-color: var(--sklearn-color-fitted-level-3);\n",
       "}\n",
       "</style><div id=\"sk-container-id-1\" class=\"sk-top-container\"><div class=\"sk-text-repr-fallback\"><pre>LinearRegression()</pre><b>In a Jupyter environment, please rerun this cell to show the HTML representation or trust the notebook. <br />On GitHub, the HTML representation is unable to render, please try loading this page with nbviewer.org.</b></div><div class=\"sk-container\" hidden><div class=\"sk-item\"><div class=\"sk-estimator  sk-toggleable\"><input class=\"sk-toggleable__control sk-hidden--visually\" id=\"sk-estimator-id-1\" type=\"checkbox\" checked><label for=\"sk-estimator-id-1\" class=\"sk-toggleable__label  sk-toggleable__label-arrow\"><div><div>LinearRegression</div></div><div><a class=\"sk-estimator-doc-link \" rel=\"noreferrer\" target=\"_blank\" href=\"https://scikit-learn.org/1.6/modules/generated/sklearn.linear_model.LinearRegression.html\">?<span>Documentation for LinearRegression</span></a><span class=\"sk-estimator-doc-link \">i<span>Not fitted</span></span></div></label><div class=\"sk-toggleable__content \"><pre>LinearRegression()</pre></div> </div></div></div></div>"
      ],
      "text/plain": [
       "LinearRegression()"
      ]
     },
     "execution_count": 22,
     "metadata": {},
     "output_type": "execute_result"
    }
   ],
   "source": [
    "modelhpp=LinearRegression()\n",
    "modelhpp"
   ]
  },
  {
   "cell_type": "code",
   "execution_count": 23,
   "metadata": {
    "colab": {
     "base_uri": "https://localhost:8080/",
     "height": 80
    },
    "executionInfo": {
     "elapsed": 11,
     "status": "ok",
     "timestamp": 1742624407556,
     "user": {
      "displayName": "Renuka N",
      "userId": "18426000206601470675"
     },
     "user_tz": -330
    },
    "id": "ZcE_NrKqcOWi",
    "outputId": "57d4f799-0cde-4340-dbaa-1034f61b3a90"
   },
   "outputs": [
    {
     "data": {
      "text/html": [
       "<style>#sk-container-id-2 {\n",
       "  /* Definition of color scheme common for light and dark mode */\n",
       "  --sklearn-color-text: #000;\n",
       "  --sklearn-color-text-muted: #666;\n",
       "  --sklearn-color-line: gray;\n",
       "  /* Definition of color scheme for unfitted estimators */\n",
       "  --sklearn-color-unfitted-level-0: #fff5e6;\n",
       "  --sklearn-color-unfitted-level-1: #f6e4d2;\n",
       "  --sklearn-color-unfitted-level-2: #ffe0b3;\n",
       "  --sklearn-color-unfitted-level-3: chocolate;\n",
       "  /* Definition of color scheme for fitted estimators */\n",
       "  --sklearn-color-fitted-level-0: #f0f8ff;\n",
       "  --sklearn-color-fitted-level-1: #d4ebff;\n",
       "  --sklearn-color-fitted-level-2: #b3dbfd;\n",
       "  --sklearn-color-fitted-level-3: cornflowerblue;\n",
       "\n",
       "  /* Specific color for light theme */\n",
       "  --sklearn-color-text-on-default-background: var(--sg-text-color, var(--theme-code-foreground, var(--jp-content-font-color1, black)));\n",
       "  --sklearn-color-background: var(--sg-background-color, var(--theme-background, var(--jp-layout-color0, white)));\n",
       "  --sklearn-color-border-box: var(--sg-text-color, var(--theme-code-foreground, var(--jp-content-font-color1, black)));\n",
       "  --sklearn-color-icon: #696969;\n",
       "\n",
       "  @media (prefers-color-scheme: dark) {\n",
       "    /* Redefinition of color scheme for dark theme */\n",
       "    --sklearn-color-text-on-default-background: var(--sg-text-color, var(--theme-code-foreground, var(--jp-content-font-color1, white)));\n",
       "    --sklearn-color-background: var(--sg-background-color, var(--theme-background, var(--jp-layout-color0, #111)));\n",
       "    --sklearn-color-border-box: var(--sg-text-color, var(--theme-code-foreground, var(--jp-content-font-color1, white)));\n",
       "    --sklearn-color-icon: #878787;\n",
       "  }\n",
       "}\n",
       "\n",
       "#sk-container-id-2 {\n",
       "  color: var(--sklearn-color-text);\n",
       "}\n",
       "\n",
       "#sk-container-id-2 pre {\n",
       "  padding: 0;\n",
       "}\n",
       "\n",
       "#sk-container-id-2 input.sk-hidden--visually {\n",
       "  border: 0;\n",
       "  clip: rect(1px 1px 1px 1px);\n",
       "  clip: rect(1px, 1px, 1px, 1px);\n",
       "  height: 1px;\n",
       "  margin: -1px;\n",
       "  overflow: hidden;\n",
       "  padding: 0;\n",
       "  position: absolute;\n",
       "  width: 1px;\n",
       "}\n",
       "\n",
       "#sk-container-id-2 div.sk-dashed-wrapped {\n",
       "  border: 1px dashed var(--sklearn-color-line);\n",
       "  margin: 0 0.4em 0.5em 0.4em;\n",
       "  box-sizing: border-box;\n",
       "  padding-bottom: 0.4em;\n",
       "  background-color: var(--sklearn-color-background);\n",
       "}\n",
       "\n",
       "#sk-container-id-2 div.sk-container {\n",
       "  /* jupyter's `normalize.less` sets `[hidden] { display: none; }`\n",
       "     but bootstrap.min.css set `[hidden] { display: none !important; }`\n",
       "     so we also need the `!important` here to be able to override the\n",
       "     default hidden behavior on the sphinx rendered scikit-learn.org.\n",
       "     See: https://github.com/scikit-learn/scikit-learn/issues/21755 */\n",
       "  display: inline-block !important;\n",
       "  position: relative;\n",
       "}\n",
       "\n",
       "#sk-container-id-2 div.sk-text-repr-fallback {\n",
       "  display: none;\n",
       "}\n",
       "\n",
       "div.sk-parallel-item,\n",
       "div.sk-serial,\n",
       "div.sk-item {\n",
       "  /* draw centered vertical line to link estimators */\n",
       "  background-image: linear-gradient(var(--sklearn-color-text-on-default-background), var(--sklearn-color-text-on-default-background));\n",
       "  background-size: 2px 100%;\n",
       "  background-repeat: no-repeat;\n",
       "  background-position: center center;\n",
       "}\n",
       "\n",
       "/* Parallel-specific style estimator block */\n",
       "\n",
       "#sk-container-id-2 div.sk-parallel-item::after {\n",
       "  content: \"\";\n",
       "  width: 100%;\n",
       "  border-bottom: 2px solid var(--sklearn-color-text-on-default-background);\n",
       "  flex-grow: 1;\n",
       "}\n",
       "\n",
       "#sk-container-id-2 div.sk-parallel {\n",
       "  display: flex;\n",
       "  align-items: stretch;\n",
       "  justify-content: center;\n",
       "  background-color: var(--sklearn-color-background);\n",
       "  position: relative;\n",
       "}\n",
       "\n",
       "#sk-container-id-2 div.sk-parallel-item {\n",
       "  display: flex;\n",
       "  flex-direction: column;\n",
       "}\n",
       "\n",
       "#sk-container-id-2 div.sk-parallel-item:first-child::after {\n",
       "  align-self: flex-end;\n",
       "  width: 50%;\n",
       "}\n",
       "\n",
       "#sk-container-id-2 div.sk-parallel-item:last-child::after {\n",
       "  align-self: flex-start;\n",
       "  width: 50%;\n",
       "}\n",
       "\n",
       "#sk-container-id-2 div.sk-parallel-item:only-child::after {\n",
       "  width: 0;\n",
       "}\n",
       "\n",
       "/* Serial-specific style estimator block */\n",
       "\n",
       "#sk-container-id-2 div.sk-serial {\n",
       "  display: flex;\n",
       "  flex-direction: column;\n",
       "  align-items: center;\n",
       "  background-color: var(--sklearn-color-background);\n",
       "  padding-right: 1em;\n",
       "  padding-left: 1em;\n",
       "}\n",
       "\n",
       "\n",
       "/* Toggleable style: style used for estimator/Pipeline/ColumnTransformer box that is\n",
       "clickable and can be expanded/collapsed.\n",
       "- Pipeline and ColumnTransformer use this feature and define the default style\n",
       "- Estimators will overwrite some part of the style using the `sk-estimator` class\n",
       "*/\n",
       "\n",
       "/* Pipeline and ColumnTransformer style (default) */\n",
       "\n",
       "#sk-container-id-2 div.sk-toggleable {\n",
       "  /* Default theme specific background. It is overwritten whether we have a\n",
       "  specific estimator or a Pipeline/ColumnTransformer */\n",
       "  background-color: var(--sklearn-color-background);\n",
       "}\n",
       "\n",
       "/* Toggleable label */\n",
       "#sk-container-id-2 label.sk-toggleable__label {\n",
       "  cursor: pointer;\n",
       "  display: flex;\n",
       "  width: 100%;\n",
       "  margin-bottom: 0;\n",
       "  padding: 0.5em;\n",
       "  box-sizing: border-box;\n",
       "  text-align: center;\n",
       "  align-items: start;\n",
       "  justify-content: space-between;\n",
       "  gap: 0.5em;\n",
       "}\n",
       "\n",
       "#sk-container-id-2 label.sk-toggleable__label .caption {\n",
       "  font-size: 0.6rem;\n",
       "  font-weight: lighter;\n",
       "  color: var(--sklearn-color-text-muted);\n",
       "}\n",
       "\n",
       "#sk-container-id-2 label.sk-toggleable__label-arrow:before {\n",
       "  /* Arrow on the left of the label */\n",
       "  content: \"▸\";\n",
       "  float: left;\n",
       "  margin-right: 0.25em;\n",
       "  color: var(--sklearn-color-icon);\n",
       "}\n",
       "\n",
       "#sk-container-id-2 label.sk-toggleable__label-arrow:hover:before {\n",
       "  color: var(--sklearn-color-text);\n",
       "}\n",
       "\n",
       "/* Toggleable content - dropdown */\n",
       "\n",
       "#sk-container-id-2 div.sk-toggleable__content {\n",
       "  max-height: 0;\n",
       "  max-width: 0;\n",
       "  overflow: hidden;\n",
       "  text-align: left;\n",
       "  /* unfitted */\n",
       "  background-color: var(--sklearn-color-unfitted-level-0);\n",
       "}\n",
       "\n",
       "#sk-container-id-2 div.sk-toggleable__content.fitted {\n",
       "  /* fitted */\n",
       "  background-color: var(--sklearn-color-fitted-level-0);\n",
       "}\n",
       "\n",
       "#sk-container-id-2 div.sk-toggleable__content pre {\n",
       "  margin: 0.2em;\n",
       "  border-radius: 0.25em;\n",
       "  color: var(--sklearn-color-text);\n",
       "  /* unfitted */\n",
       "  background-color: var(--sklearn-color-unfitted-level-0);\n",
       "}\n",
       "\n",
       "#sk-container-id-2 div.sk-toggleable__content.fitted pre {\n",
       "  /* unfitted */\n",
       "  background-color: var(--sklearn-color-fitted-level-0);\n",
       "}\n",
       "\n",
       "#sk-container-id-2 input.sk-toggleable__control:checked~div.sk-toggleable__content {\n",
       "  /* Expand drop-down */\n",
       "  max-height: 200px;\n",
       "  max-width: 100%;\n",
       "  overflow: auto;\n",
       "}\n",
       "\n",
       "#sk-container-id-2 input.sk-toggleable__control:checked~label.sk-toggleable__label-arrow:before {\n",
       "  content: \"▾\";\n",
       "}\n",
       "\n",
       "/* Pipeline/ColumnTransformer-specific style */\n",
       "\n",
       "#sk-container-id-2 div.sk-label input.sk-toggleable__control:checked~label.sk-toggleable__label {\n",
       "  color: var(--sklearn-color-text);\n",
       "  background-color: var(--sklearn-color-unfitted-level-2);\n",
       "}\n",
       "\n",
       "#sk-container-id-2 div.sk-label.fitted input.sk-toggleable__control:checked~label.sk-toggleable__label {\n",
       "  background-color: var(--sklearn-color-fitted-level-2);\n",
       "}\n",
       "\n",
       "/* Estimator-specific style */\n",
       "\n",
       "/* Colorize estimator box */\n",
       "#sk-container-id-2 div.sk-estimator input.sk-toggleable__control:checked~label.sk-toggleable__label {\n",
       "  /* unfitted */\n",
       "  background-color: var(--sklearn-color-unfitted-level-2);\n",
       "}\n",
       "\n",
       "#sk-container-id-2 div.sk-estimator.fitted input.sk-toggleable__control:checked~label.sk-toggleable__label {\n",
       "  /* fitted */\n",
       "  background-color: var(--sklearn-color-fitted-level-2);\n",
       "}\n",
       "\n",
       "#sk-container-id-2 div.sk-label label.sk-toggleable__label,\n",
       "#sk-container-id-2 div.sk-label label {\n",
       "  /* The background is the default theme color */\n",
       "  color: var(--sklearn-color-text-on-default-background);\n",
       "}\n",
       "\n",
       "/* On hover, darken the color of the background */\n",
       "#sk-container-id-2 div.sk-label:hover label.sk-toggleable__label {\n",
       "  color: var(--sklearn-color-text);\n",
       "  background-color: var(--sklearn-color-unfitted-level-2);\n",
       "}\n",
       "\n",
       "/* Label box, darken color on hover, fitted */\n",
       "#sk-container-id-2 div.sk-label.fitted:hover label.sk-toggleable__label.fitted {\n",
       "  color: var(--sklearn-color-text);\n",
       "  background-color: var(--sklearn-color-fitted-level-2);\n",
       "}\n",
       "\n",
       "/* Estimator label */\n",
       "\n",
       "#sk-container-id-2 div.sk-label label {\n",
       "  font-family: monospace;\n",
       "  font-weight: bold;\n",
       "  display: inline-block;\n",
       "  line-height: 1.2em;\n",
       "}\n",
       "\n",
       "#sk-container-id-2 div.sk-label-container {\n",
       "  text-align: center;\n",
       "}\n",
       "\n",
       "/* Estimator-specific */\n",
       "#sk-container-id-2 div.sk-estimator {\n",
       "  font-family: monospace;\n",
       "  border: 1px dotted var(--sklearn-color-border-box);\n",
       "  border-radius: 0.25em;\n",
       "  box-sizing: border-box;\n",
       "  margin-bottom: 0.5em;\n",
       "  /* unfitted */\n",
       "  background-color: var(--sklearn-color-unfitted-level-0);\n",
       "}\n",
       "\n",
       "#sk-container-id-2 div.sk-estimator.fitted {\n",
       "  /* fitted */\n",
       "  background-color: var(--sklearn-color-fitted-level-0);\n",
       "}\n",
       "\n",
       "/* on hover */\n",
       "#sk-container-id-2 div.sk-estimator:hover {\n",
       "  /* unfitted */\n",
       "  background-color: var(--sklearn-color-unfitted-level-2);\n",
       "}\n",
       "\n",
       "#sk-container-id-2 div.sk-estimator.fitted:hover {\n",
       "  /* fitted */\n",
       "  background-color: var(--sklearn-color-fitted-level-2);\n",
       "}\n",
       "\n",
       "/* Specification for estimator info (e.g. \"i\" and \"?\") */\n",
       "\n",
       "/* Common style for \"i\" and \"?\" */\n",
       "\n",
       ".sk-estimator-doc-link,\n",
       "a:link.sk-estimator-doc-link,\n",
       "a:visited.sk-estimator-doc-link {\n",
       "  float: right;\n",
       "  font-size: smaller;\n",
       "  line-height: 1em;\n",
       "  font-family: monospace;\n",
       "  background-color: var(--sklearn-color-background);\n",
       "  border-radius: 1em;\n",
       "  height: 1em;\n",
       "  width: 1em;\n",
       "  text-decoration: none !important;\n",
       "  margin-left: 0.5em;\n",
       "  text-align: center;\n",
       "  /* unfitted */\n",
       "  border: var(--sklearn-color-unfitted-level-1) 1pt solid;\n",
       "  color: var(--sklearn-color-unfitted-level-1);\n",
       "}\n",
       "\n",
       ".sk-estimator-doc-link.fitted,\n",
       "a:link.sk-estimator-doc-link.fitted,\n",
       "a:visited.sk-estimator-doc-link.fitted {\n",
       "  /* fitted */\n",
       "  border: var(--sklearn-color-fitted-level-1) 1pt solid;\n",
       "  color: var(--sklearn-color-fitted-level-1);\n",
       "}\n",
       "\n",
       "/* On hover */\n",
       "div.sk-estimator:hover .sk-estimator-doc-link:hover,\n",
       ".sk-estimator-doc-link:hover,\n",
       "div.sk-label-container:hover .sk-estimator-doc-link:hover,\n",
       ".sk-estimator-doc-link:hover {\n",
       "  /* unfitted */\n",
       "  background-color: var(--sklearn-color-unfitted-level-3);\n",
       "  color: var(--sklearn-color-background);\n",
       "  text-decoration: none;\n",
       "}\n",
       "\n",
       "div.sk-estimator.fitted:hover .sk-estimator-doc-link.fitted:hover,\n",
       ".sk-estimator-doc-link.fitted:hover,\n",
       "div.sk-label-container:hover .sk-estimator-doc-link.fitted:hover,\n",
       ".sk-estimator-doc-link.fitted:hover {\n",
       "  /* fitted */\n",
       "  background-color: var(--sklearn-color-fitted-level-3);\n",
       "  color: var(--sklearn-color-background);\n",
       "  text-decoration: none;\n",
       "}\n",
       "\n",
       "/* Span, style for the box shown on hovering the info icon */\n",
       ".sk-estimator-doc-link span {\n",
       "  display: none;\n",
       "  z-index: 9999;\n",
       "  position: relative;\n",
       "  font-weight: normal;\n",
       "  right: .2ex;\n",
       "  padding: .5ex;\n",
       "  margin: .5ex;\n",
       "  width: min-content;\n",
       "  min-width: 20ex;\n",
       "  max-width: 50ex;\n",
       "  color: var(--sklearn-color-text);\n",
       "  box-shadow: 2pt 2pt 4pt #999;\n",
       "  /* unfitted */\n",
       "  background: var(--sklearn-color-unfitted-level-0);\n",
       "  border: .5pt solid var(--sklearn-color-unfitted-level-3);\n",
       "}\n",
       "\n",
       ".sk-estimator-doc-link.fitted span {\n",
       "  /* fitted */\n",
       "  background: var(--sklearn-color-fitted-level-0);\n",
       "  border: var(--sklearn-color-fitted-level-3);\n",
       "}\n",
       "\n",
       ".sk-estimator-doc-link:hover span {\n",
       "  display: block;\n",
       "}\n",
       "\n",
       "/* \"?\"-specific style due to the `<a>` HTML tag */\n",
       "\n",
       "#sk-container-id-2 a.estimator_doc_link {\n",
       "  float: right;\n",
       "  font-size: 1rem;\n",
       "  line-height: 1em;\n",
       "  font-family: monospace;\n",
       "  background-color: var(--sklearn-color-background);\n",
       "  border-radius: 1rem;\n",
       "  height: 1rem;\n",
       "  width: 1rem;\n",
       "  text-decoration: none;\n",
       "  /* unfitted */\n",
       "  color: var(--sklearn-color-unfitted-level-1);\n",
       "  border: var(--sklearn-color-unfitted-level-1) 1pt solid;\n",
       "}\n",
       "\n",
       "#sk-container-id-2 a.estimator_doc_link.fitted {\n",
       "  /* fitted */\n",
       "  border: var(--sklearn-color-fitted-level-1) 1pt solid;\n",
       "  color: var(--sklearn-color-fitted-level-1);\n",
       "}\n",
       "\n",
       "/* On hover */\n",
       "#sk-container-id-2 a.estimator_doc_link:hover {\n",
       "  /* unfitted */\n",
       "  background-color: var(--sklearn-color-unfitted-level-3);\n",
       "  color: var(--sklearn-color-background);\n",
       "  text-decoration: none;\n",
       "}\n",
       "\n",
       "#sk-container-id-2 a.estimator_doc_link.fitted:hover {\n",
       "  /* fitted */\n",
       "  background-color: var(--sklearn-color-fitted-level-3);\n",
       "}\n",
       "</style><div id=\"sk-container-id-2\" class=\"sk-top-container\"><div class=\"sk-text-repr-fallback\"><pre>LinearRegression()</pre><b>In a Jupyter environment, please rerun this cell to show the HTML representation or trust the notebook. <br />On GitHub, the HTML representation is unable to render, please try loading this page with nbviewer.org.</b></div><div class=\"sk-container\" hidden><div class=\"sk-item\"><div class=\"sk-estimator fitted sk-toggleable\"><input class=\"sk-toggleable__control sk-hidden--visually\" id=\"sk-estimator-id-2\" type=\"checkbox\" checked><label for=\"sk-estimator-id-2\" class=\"sk-toggleable__label fitted sk-toggleable__label-arrow\"><div><div>LinearRegression</div></div><div><a class=\"sk-estimator-doc-link fitted\" rel=\"noreferrer\" target=\"_blank\" href=\"https://scikit-learn.org/1.6/modules/generated/sklearn.linear_model.LinearRegression.html\">?<span>Documentation for LinearRegression</span></a><span class=\"sk-estimator-doc-link fitted\">i<span>Fitted</span></span></div></label><div class=\"sk-toggleable__content fitted\"><pre>LinearRegression()</pre></div> </div></div></div></div>"
      ],
      "text/plain": [
       "LinearRegression()"
      ]
     },
     "execution_count": 23,
     "metadata": {},
     "output_type": "execute_result"
    }
   ],
   "source": [
    "modelhpp.fit(xtrain,ytrain)"
   ]
  },
  {
   "cell_type": "code",
   "execution_count": 24,
   "metadata": {
    "colab": {
     "base_uri": "https://localhost:8080/",
     "height": 0
    },
    "executionInfo": {
     "elapsed": 23,
     "status": "ok",
     "timestamp": 1742624407657,
     "user": {
      "displayName": "Renuka N",
      "userId": "18426000206601470675"
     },
     "user_tz": -330
    },
    "id": "15bm1fPLccmJ",
    "outputId": "15efb56b-8b29-47e5-d844-23b71f5c6bbd"
   },
   "outputs": [
    {
     "data": {
      "text/plain": [
       "array([507569.96389044, 537229.81833628, 513237.41674113, 514400.926684  ,\n",
       "       561778.87709638, 584511.50696588, 531459.1017076 , 537911.24309632,\n",
       "       550825.83713332, 518386.72639921, 560660.49232364, 499308.24977467,\n",
       "       528048.95214353, 574950.79584192, 530804.11116708, 575592.32331518,\n",
       "       555886.08403436, 503360.45360293, 521614.9586304 , 502824.45806951,\n",
       "       527465.26070963, 512646.46574999, 532589.88096725, 575833.89062776,\n",
       "       519545.82915843, 504794.22642234, 521782.26999955, 506686.26702884,\n",
       "       558032.74051881, 548198.04142719, 521246.77436684, 527242.40074779,\n",
       "       560314.99766712, 514125.74212939, 504322.60129518, 496549.82537087,\n",
       "       524439.83140461, 500923.9973835 , 540849.88312866, 566673.12703758,\n",
       "       526857.21590461, 479449.28097889, 503165.94218314, 563174.0762993 ,\n",
       "       516414.89906705, 512349.48804973, 491776.93401109, 535040.11829307,\n",
       "       525056.40068114, 506922.51631731, 544564.32016867, 562995.18968376,\n",
       "       492005.54862151, 527782.87160701, 539109.75115225, 557283.71834038,\n",
       "       575019.28280904, 587024.40089754, 516095.82806493, 540905.80037577,\n",
       "       495346.55077374, 513597.07345804, 512848.22374403, 484877.65857089,\n",
       "       509851.42205128, 537793.19831547, 539568.40787519, 497576.87874261,\n",
       "       538452.25960343, 480104.42124825, 550850.6388636 , 562801.33938126,\n",
       "       574257.28751691, 536779.93521539, 542347.07511472, 566998.02606282,\n",
       "       539128.5059799 , 514823.93317197, 489037.40928746, 520093.27521787,\n",
       "       511865.76567653, 567296.50179976, 510408.64164052, 528730.99851903,\n",
       "       576978.34606889, 553779.96864122, 520141.65560345, 518069.20875854,\n",
       "       477431.65994912, 536384.46241007, 564602.069562  , 486342.4677877 ,\n",
       "       501808.8935919 , 487775.62063126, 524921.76126013, 559112.38784976,\n",
       "       539144.51174343, 505366.54635749, 547326.68987272, 555688.7207928 ,\n",
       "       520061.11360118, 544669.77737021, 550488.09813262, 542310.57000568,\n",
       "       514915.64757876, 529254.08287498, 507532.09045702, 515112.52036102,\n",
       "       538303.13994673, 573321.10885909, 540119.91451382, 540600.62429981,\n",
       "       540595.53388447, 575072.6069014 , 527775.79695065, 501373.0188437 ,\n",
       "       522158.70001214, 484607.49593339, 516094.0719792 , 513558.66380797,\n",
       "       506758.96954638, 546486.32593925, 539104.96838608, 532476.86389773,\n",
       "       564560.90759223, 530132.01881697, 491687.00907046, 553491.17440647,\n",
       "       525790.89628936, 532798.08461257, 525678.16953262, 536718.65187993,\n",
       "       554254.22479368, 512278.21408128, 525811.54729968, 497660.81094583,\n",
       "       531845.03420076, 516653.90678623, 533352.55929534, 512347.84561696,\n",
       "       510063.75693126, 487512.51365695, 561941.40936186, 568582.65508495,\n",
       "       509334.02799027, 539170.10890919, 551680.94210124, 510985.5664233 ,\n",
       "       522856.59568471, 518484.62541318, 515237.39174713, 501531.55715206,\n",
       "       540241.35509409, 563845.12837928, 509226.29486588, 519135.74912418,\n",
       "       529061.46032308, 533333.73868853, 522956.50923016, 571338.56902903,\n",
       "       532599.29800821, 532552.66670032, 530963.17935662, 521122.41129404,\n",
       "       535257.76772512, 526605.25750614, 497803.92518379, 517264.98840402,\n",
       "       547730.05035305, 534377.32860231, 535196.21373733, 551689.96213006,\n",
       "       561184.84155305, 552152.67196285, 475798.27463936, 542718.87407203,\n",
       "       540838.92840467, 533650.39427163, 554380.54318081, 554674.34202518,\n",
       "       515250.40188013, 497747.40799265, 520022.98975368, 550823.66413847,\n",
       "       495660.94429068, 517201.0040634 , 521269.93440135, 518905.93033146,\n",
       "       532290.1993676 , 531499.28886948, 566809.12439829, 487256.03369323,\n",
       "       552238.13548284, 535408.01078467, 532769.25158059, 526678.04275952,\n",
       "       556887.78508192, 539549.25851794, 536606.6310444 , 495736.70189246,\n",
       "       505503.07048343, 542175.63086127, 569193.01827859, 485529.45344322,\n",
       "       500052.02495056, 543104.38549312, 522093.27969711, 544763.35278763,\n",
       "       541089.18383889, 536288.69470298, 507131.56027669, 491658.46251362,\n",
       "       531847.16437376, 544850.94430808, 575971.08674794, 576711.40292827,\n",
       "       541799.89202655, 566749.9840379 , 492920.87223875, 488016.19382628,\n",
       "       541789.56613249, 518186.03204433, 549288.36961027, 559157.15909045,\n",
       "       539284.98225741, 553985.06765642, 560232.01622669, 542672.26205896,\n",
       "       494920.36383957, 532959.54902987, 508213.18533274, 536506.7885205 ,\n",
       "       536683.45283187, 511900.13531047, 523784.8466991 , 564773.7950429 ,\n",
       "       524237.89072647, 521163.67584102, 529066.11045146, 536455.65037707,\n",
       "       548485.6663757 , 521897.6372791 , 489027.48009026, 559958.07252641,\n",
       "       519870.90156072, 579982.74497421, 566098.76652365, 570030.17650166,\n",
       "       507209.33842542, 588018.40459381, 517199.0272273 , 503597.84325093,\n",
       "       531346.24543431, 506897.78139957, 538587.13356129, 534414.91827966,\n",
       "       538874.79041625, 520879.25054801, 493733.73125593, 500189.88386843,\n",
       "       521347.4406603 , 524700.03393613, 520691.05430424, 505290.28099894,\n",
       "       493224.41171697, 525334.95970911, 533546.34070272, 550878.75870381,\n",
       "       519232.8045124 , 512847.09274581, 526635.84354868, 547883.84640185,\n",
       "       578235.70113808, 530903.5154966 , 537692.34933791, 497949.38497672,\n",
       "       506470.25551887, 523835.24415961, 512070.95794845, 544400.92678905,\n",
       "       577969.0249873 , 527953.75600559, 526264.99656798, 494929.58399962,\n",
       "       540485.75421192, 504503.70611637, 562546.45596693, 521045.98348964,\n",
       "       524676.20347729, 542886.71725835, 528277.34328449, 504484.4888127 ,\n",
       "       539463.5747941 , 560909.12228176, 557162.13019381, 510537.48581805,\n",
       "       526530.61033951, 499489.61792322, 478794.93777102, 566545.28005275,\n",
       "       507022.91195844, 522921.84727774, 543611.98530161, 547376.14240546,\n",
       "       534971.1589164 , 492483.60581433, 495748.97929399, 556847.77400616,\n",
       "       546599.2105927 , 568440.91045489, 570046.08850275, 578134.3230884 ,\n",
       "       516116.83986834, 515868.84264734, 538741.25925787, 525018.37547239,\n",
       "       565704.81064783, 572358.59932676, 546576.42574689, 494628.89210353,\n",
       "       487921.2431564 , 552376.59321087, 555213.32740493, 523820.76917159,\n",
       "       534608.33784696, 501140.49465162, 554143.83309673, 564976.72672265,\n",
       "       515669.76378893, 573951.20493554, 501145.96874003, 546224.4652882 ,\n",
       "       533172.60718461, 562983.24373645, 536599.75982566, 519219.88927572,\n",
       "       544490.5146309 , 542749.83183887, 585092.99811784, 507514.40486701,\n",
       "       516786.03148424, 532530.59142458, 562979.74137252, 536450.93501606,\n",
       "       504027.11907234, 515742.13086977, 528171.91465357, 558217.97056449,\n",
       "       512674.85203351, 561807.09073984, 577901.77850841, 495277.39902684,\n",
       "       528565.21194071, 567579.5629077 , 508789.93381298, 548228.21038497,\n",
       "       540175.30612958, 506704.35816978, 554692.67687384, 509006.31092057,\n",
       "       501960.13872046, 509330.30596902, 539063.14529902, 514330.44666108,\n",
       "       510970.78962947, 498884.52163792, 561140.58445067, 513819.77482697,\n",
       "       552304.66767689, 532754.64164789, 543662.67832258, 497809.891031  ,\n",
       "       508771.06989221, 552677.58163447, 509356.12388518, 509304.06301665,\n",
       "       532723.1070695 , 587200.07167869, 562547.56422955, 477354.39739787,\n",
       "       565482.21257781, 520905.15603551, 541239.87585022, 561877.06823838,\n",
       "       510996.32210914, 549105.27214018, 517810.95413644, 564927.2972916 ,\n",
       "       570146.84603004, 540606.10186025, 503368.78787673, 524557.21159614,\n",
       "       548125.38840942, 517627.56291232, 496160.91686683, 523593.96987888,\n",
       "       526455.21227092, 523890.58826767, 512526.70895035, 519324.51584404,\n",
       "       515150.2675382 , 556028.7589985 , 521430.79349258, 496154.16326519,\n",
       "       543406.5079901 , 509088.0134404 , 542733.67382319, 538768.65274817,\n",
       "       526509.60146159, 529862.06412779, 518856.82395204, 504280.00250279,\n",
       "       516268.50064613, 547663.52127494, 528754.04525666, 565647.184101  ,\n",
       "       547037.85083406, 559848.67109407, 555720.12170003, 557490.33085914,\n",
       "       548589.36623162, 507221.54517148, 551702.19636728, 474733.16658564,\n",
       "       489642.43857978, 534821.20070598, 526941.95451022, 542762.22778495,\n",
       "       570254.29683391, 515002.48308561, 563081.65141982, 523353.49079709,\n",
       "       516686.77670309, 536379.96706246, 569866.33963919, 517214.89804615,\n",
       "       511302.95290781, 535640.77249336, 522572.96776317, 511827.57135401,\n",
       "       548183.50016788, 502904.05568054, 562144.208079  , 528371.40644213,\n",
       "       513351.24868535, 526935.10041378, 528689.25738473, 534616.49345523,\n",
       "       544693.04906726, 525787.4154472 , 552796.98069253, 531784.2257722 ,\n",
       "       564146.91231831, 509399.69691294, 517811.28288688, 576021.26617713,\n",
       "       511875.71163995, 551462.86925897, 548236.63334918, 500718.40479304,\n",
       "       503552.16916732, 509603.41261555, 550221.49354994, 502090.56837998,\n",
       "       482137.42535664, 540496.83592913, 539165.00489784, 550501.11441063,\n",
       "       534838.92981639, 508715.63781591, 536639.5658378 , 527172.99105558,\n",
       "       522018.00405663, 530044.82068696, 505530.20474488, 512224.52542978,\n",
       "       520798.08640736, 540821.62310137, 515629.11848609, 557251.48782857,\n",
       "       506274.7348413 , 507327.69662603, 483835.79581613, 572381.20569749,\n",
       "       554932.06247715, 522441.35552307, 515733.4490428 , 488936.36360462,\n",
       "       531851.20452425, 543167.11203275, 474675.31983495, 493665.91430096,\n",
       "       559187.34590753, 546843.67816267, 516659.41034787, 504305.84821177,\n",
       "       512155.46491671, 547335.95957863, 530313.65395536, 544784.48060698,\n",
       "       521949.01184606, 552143.78416965, 504229.14244024, 571811.57265897,\n",
       "       572372.58489413, 543990.74494585, 483523.95063473, 561041.04156007,\n",
       "       519134.59715072, 500124.1927567 , 513470.1788059 , 538914.46457368,\n",
       "       554221.98316021, 511236.57826801, 538835.05542567, 527789.38967411,\n",
       "       522456.3413991 , 540404.65218794, 505581.49189015, 537672.93334689,\n",
       "       529754.38836451, 534264.91382979, 518824.79200156, 514212.88962047,\n",
       "       511275.52167604, 502515.89251958, 505996.01663308, 532846.59954066,\n",
       "       525299.00776339, 540333.79643813, 505636.65168812, 522618.18575232,\n",
       "       487134.93112436, 508931.59947002, 537704.27411952, 530884.06393665,\n",
       "       553037.2079247 , 550927.14723131, 541021.49442369, 537735.83366046,\n",
       "       540835.85365998, 497511.13812582, 522622.83682412, 507954.75386155,\n",
       "       500619.8849006 , 532167.51905206, 582260.12450611, 516073.61820059,\n",
       "       486323.38054712, 501822.78594865, 540393.57589357, 506010.71707262,\n",
       "       543629.81088825, 519271.08225166, 561079.51820311, 488524.91396247,\n",
       "       525074.88743114, 533435.60502498, 552089.08373175, 539519.07279393,\n",
       "       484995.05390264, 505326.69861658, 534992.43844665, 533218.84871846,\n",
       "       509901.95643855, 566634.60559061, 483765.93557861, 504963.74116692,\n",
       "       507951.18102259, 558902.4354029 , 505798.07929904, 511087.36480806,\n",
       "       546004.28753713, 553175.35445159, 525757.64915565, 497548.3327323 ,\n",
       "       511848.67384472, 542126.81046487, 520074.76518572, 555402.37699185,\n",
       "       498355.21201546, 541462.67350492, 525684.17638689, 519961.88576465,\n",
       "       514148.99794922, 535219.65975485, 538943.54456368, 527398.19072374,\n",
       "       495920.17332381, 544185.34397778, 488732.12950041, 531511.54298887,\n",
       "       531116.44408871, 489599.11270049, 502267.37689699, 555627.69682055,\n",
       "       485486.8712266 , 513788.49834355, 524254.82573101, 508695.24272803])"
      ]
     },
     "execution_count": 24,
     "metadata": {},
     "output_type": "execute_result"
    }
   ],
   "source": [
    "prediction=modelhpp.predict(xtest)\n",
    "prediction"
   ]
  },
  {
   "cell_type": "code",
   "execution_count": 25,
   "metadata": {
    "colab": {
     "base_uri": "https://localhost:8080/",
     "height": 458
    },
    "executionInfo": {
     "elapsed": 52,
     "status": "ok",
     "timestamp": 1742624407711,
     "user": {
      "displayName": "Renuka N",
      "userId": "18426000206601470675"
     },
     "user_tz": -330
    },
    "id": "qvYDpbUhcvwQ",
    "outputId": "f940e1c5-f1e0-4051-b1a5-78de2ceddc62"
   },
   "outputs": [
    {
     "data": {
      "text/plain": [
       "565     810135\n",
       "1223     96629\n",
       "1581    545496\n",
       "959     337312\n",
       "1974    229729\n",
       "         ...  \n",
       "466     838898\n",
       "872     733429\n",
       "464     272310\n",
       "1107    872614\n",
       "1921    184974\n",
       "Name: Price, Length: 600, dtype: int64"
      ]
     },
     "execution_count": 25,
     "metadata": {},
     "output_type": "execute_result"
    }
   ],
   "source": [
    "ytest"
   ]
  },
  {
   "cell_type": "code",
   "execution_count": 26,
   "metadata": {
    "colab": {
     "base_uri": "https://localhost:8080/",
     "height": 0
    },
    "executionInfo": {
     "elapsed": 19,
     "status": "ok",
     "timestamp": 1742624407804,
     "user": {
      "displayName": "Renuka N",
      "userId": "18426000206601470675"
     },
     "user_tz": -330
    },
    "id": "CjpM3crhd1Ks",
    "outputId": "17101f17-cd61-441f-e687-3c760b704207"
   },
   "outputs": [
    {
     "data": {
      "text/plain": [
       "73564422225.72972"
      ]
     },
     "execution_count": 26,
     "metadata": {},
     "output_type": "execute_result"
    }
   ],
   "source": [
    "MSE=mean_squared_error(prediction,ytest)\n",
    "MSE"
   ]
  },
  {
   "cell_type": "code",
   "execution_count": 27,
   "metadata": {
    "colab": {
     "base_uri": "https://localhost:8080/",
     "height": 0
    },
    "executionInfo": {
     "elapsed": 17,
     "status": "ok",
     "timestamp": 1742625133528,
     "user": {
      "displayName": "Renuka N",
      "userId": "18426000206601470675"
     },
     "user_tz": -330
    },
    "id": "mZg5FJRmhT2c",
    "outputId": "83742065-235b-4f09-b4a5-e9a801643e08"
   },
   "outputs": [
    {
     "data": {
      "text/plain": [
       "271227.620691053"
      ]
     },
     "execution_count": 27,
     "metadata": {},
     "output_type": "execute_result"
    }
   ],
   "source": [
    "rmse=np.sqrt(MSE)\n",
    "rmse"
   ]
  },
  {
   "cell_type": "code",
   "execution_count": null,
   "metadata": {},
   "outputs": [],
   "source": [
    "def get_float_input(prompt):\n",
    "    while True:\n",
    "        try:\n",
    "            value = float(input(prompt))\n",
    "            return value\n",
    "        except ValueError:\n",
    "            print(\"Invalid input! Please enter a numeric value.\")\n",
    "\n",
    "Area = get_float_input('Area: ')\n",
    "Bedrooms = get_float_input('Bedrooms: ')\n",
    "Bathrooms = get_float_input('Bathrooms: ')\n",
    "Floors = get_float_input('Floors: ')\n",
    "Location_New = get_float_input('Location_New: ')\n",
    "Condition_New = get_float_input('Condition_New: ')\n",
    "Garage_New = get_float_input('Garage_New: ')\n",
    "\n",
    "print(f\"Inputs: {Area}, {Bedrooms}, {Bathrooms}, {Floors}, {Location_New}, {Condition_New}, {Garage_New}\")\n"
   ]
  },
  {
   "cell_type": "code",
   "execution_count": null,
   "metadata": {},
   "outputs": [],
   "source": []
  },
  {
   "cell_type": "code",
   "execution_count": null,
   "metadata": {
    "colab": {
     "base_uri": "https://localhost:8080/",
     "height": 0
    },
    "executionInfo": {
     "elapsed": 18860,
     "status": "ok",
     "timestamp": 1742625133494,
     "user": {
      "displayName": "Renuka N",
      "userId": "18426000206601470675"
     },
     "user_tz": -330
    },
    "id": "s8Y8dsspi0rf",
    "outputId": "856c30bb-18e1-43f6-e4c5-5a9a2d01ac2d"
   },
   "outputs": [
    {
     "ename": "ValueError",
     "evalue": "could not convert string to float: ''",
     "output_type": "error",
     "traceback": [
      "\u001b[1;31m---------------------------------------------------------------------------\u001b[0m",
      "\u001b[1;31mValueError\u001b[0m                                Traceback (most recent call last)",
      "Cell \u001b[1;32mIn[2], line 1\u001b[0m\n\u001b[1;32m----> 1\u001b[0m Area \u001b[38;5;241m=\u001b[39m \u001b[38;5;28;43mfloat\u001b[39;49m\u001b[43m(\u001b[49m\u001b[38;5;28;43minput\u001b[39;49m\u001b[43m(\u001b[49m\u001b[38;5;124;43m'\u001b[39;49m\u001b[38;5;124;43mArea: \u001b[39;49m\u001b[38;5;124;43m'\u001b[39;49m\u001b[43m)\u001b[49m\u001b[43m)\u001b[49m\n\u001b[0;32m      2\u001b[0m Bedrooms \u001b[38;5;241m=\u001b[39m \u001b[38;5;28mfloat\u001b[39m(\u001b[38;5;28minput\u001b[39m(\u001b[38;5;124m'\u001b[39m\u001b[38;5;124mBedrooms: \u001b[39m\u001b[38;5;124m'\u001b[39m))\n\u001b[0;32m      3\u001b[0m Bathrooms \u001b[38;5;241m=\u001b[39m \u001b[38;5;28mfloat\u001b[39m(\u001b[38;5;28minput\u001b[39m(\u001b[38;5;124m'\u001b[39m\u001b[38;5;124mBathrooms: \u001b[39m\u001b[38;5;124m'\u001b[39m))\n",
      "\u001b[1;31mValueError\u001b[0m: could not convert string to float: ''"
     ]
    }
   ],
   "source": [
    "#Area = float(input('Area: '))\n",
    "#Bedrooms = float(input('Bedrooms: '))\n",
    "#Bathrooms = float(input('Bathrooms: '))\n",
    "#Floors = float(input('Floors: '))\n",
    "#Location_New = float(input('Location_New: '))\n",
    "#Condition_New = float(input('Condition_New: '))\n",
    "#Garage_New = float(input('Garage_New: '))"
   ]
  },
  {
   "cell_type": "code",
   "execution_count": null,
   "metadata": {
    "executionInfo": {
     "elapsed": 26,
     "status": "ok",
     "timestamp": 1742625137116,
     "user": {
      "displayName": "Renuka N",
      "userId": "18426000206601470675"
     },
     "user_tz": -330
    },
    "id": "Awn-GLvSi_kd"
   },
   "outputs": [],
   "source": [
    "#exp = np.array([Area, Bedrooms, Bathrooms, Floors, Location_New, Condition_New, Garage_New]).reshape(1, -1)"
   ]
  },
  {
   "cell_type": "code",
   "execution_count": null,
   "metadata": {
    "colab": {
     "base_uri": "https://localhost:8080/",
     "height": 0
    },
    "executionInfo": {
     "elapsed": 26,
     "status": "ok",
     "timestamp": 1742625138747,
     "user": {
      "displayName": "Renuka N",
      "userId": "18426000206601470675"
     },
     "user_tz": -330
    },
    "id": "7aHe2IuojCPy",
    "outputId": "48f4a05e-0310-4189-8bb6-e7fae20d8069"
   },
   "outputs": [
    {
     "name": "stderr",
     "output_type": "stream",
     "text": [
      "/usr/local/lib/python3.11/dist-packages/sklearn/utils/validation.py:2739: UserWarning: X does not have valid feature names, but LinearRegression was fitted with feature names\n",
      "  warnings.warn(\n"
     ]
    }
   ],
   "source": [
    "#price = modelhpp.predict(exp)"
   ]
  },
  {
   "cell_type": "code",
   "execution_count": null,
   "metadata": {
    "colab": {
     "base_uri": "https://localhost:8080/",
     "height": 0
    },
    "executionInfo": {
     "elapsed": 10,
     "status": "ok",
     "timestamp": 1742625140140,
     "user": {
      "displayName": "Renuka N",
      "userId": "18426000206601470675"
     },
     "user_tz": -330
    },
    "id": "OlS_aGjYjFRb",
    "outputId": "b8a8261a-14da-4ff1-fb11-57047293ce3d"
   },
   "outputs": [
    {
     "name": "stdout",
     "output_type": "stream",
     "text": [
      "[581138.67773633]\n"
     ]
    }
   ],
   "source": [
    "#print(price)"
   ]
  }
 ],
 "metadata": {
  "colab": {
   "authorship_tag": "ABX9TyOEkWDX+HUFVNJYbaT8SvSW",
   "provenance": []
  },
  "kernelspec": {
   "display_name": "Python 3",
   "name": "python3"
  },
  "language_info": {
   "codemirror_mode": {
    "name": "ipython",
    "version": 3
   },
   "file_extension": ".py",
   "mimetype": "text/x-python",
   "name": "python",
   "nbconvert_exporter": "python",
   "pygments_lexer": "ipython3",
   "version": "3.10.4"
  }
 },
 "nbformat": 4,
 "nbformat_minor": 0
}
